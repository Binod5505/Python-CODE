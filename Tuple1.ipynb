{
 "cells": [
  {
   "cell_type": "markdown",
   "id": "de6f8d03-5e3f-4c4a-8190-5547f903fc4d",
   "metadata": {},
   "source": [
    "# TUPLE CREATION"
   ]
  },
  {
   "cell_type": "code",
   "execution_count": 2,
   "id": "521b912f-c2b1-4120-aa8e-db52f0c519f9",
   "metadata": {},
   "outputs": [
    {
     "data": {
      "text/plain": [
       "()"
      ]
     },
     "execution_count": 2,
     "metadata": {},
     "output_type": "execute_result"
    }
   ],
   "source": [
    "tup1 = ()\n",
    "tup1"
   ]
  },
  {
   "cell_type": "code",
   "execution_count": 4,
   "id": "b2049042-a2df-42b7-835f-80ad3cc5adbc",
   "metadata": {},
   "outputs": [
    {
     "data": {
      "text/plain": [
       "(20, 30, 60)"
      ]
     },
     "execution_count": 4,
     "metadata": {},
     "output_type": "execute_result"
    }
   ],
   "source": [
    "tup2 = (20, 30, 60)\n",
    "tup2"
   ]
  },
  {
   "cell_type": "code",
   "execution_count": 6,
   "id": "6647eb4b-be42-4666-a463-ebbb61cb539a",
   "metadata": {},
   "outputs": [
    {
     "data": {
      "text/plain": [
       "(20.34, 50.33, 78.77)"
      ]
     },
     "execution_count": 6,
     "metadata": {},
     "output_type": "execute_result"
    }
   ],
   "source": [
    "tup3 = ( 20.34, 50.33, 78.77)\n",
    "tup3"
   ]
  },
  {
   "cell_type": "code",
   "execution_count": 8,
   "id": "df84e4e0-4575-487d-835d-7c01422a6834",
   "metadata": {},
   "outputs": [
    {
     "data": {
      "text/plain": [
       "('hii', 'hello', 'welcome')"
      ]
     },
     "execution_count": 8,
     "metadata": {},
     "output_type": "execute_result"
    }
   ],
   "source": [
    "tup4 = (\"hii\", \"hello\", \"welcome\")\n",
    "tup4"
   ]
  },
  {
   "cell_type": "code",
   "execution_count": 10,
   "id": "475c76a1-7151-4f33-9518-15d8822ac337",
   "metadata": {},
   "outputs": [
    {
     "data": {
      "text/plain": [
       "((10+50j), 'hii', 20, 11.11)"
      ]
     },
     "execution_count": 10,
     "metadata": {},
     "output_type": "execute_result"
    }
   ],
   "source": [
    "tup5 = (10 + 50j, \"hii\", 20, 11.11 )\n",
    "tup5"
   ]
  },
  {
   "cell_type": "code",
   "execution_count": 12,
   "id": "47883d1f-53e7-4bcc-a6c0-75a9cbaa93bd",
   "metadata": {},
   "outputs": [
    {
     "data": {
      "text/plain": [
       "4"
      ]
     },
     "execution_count": 12,
     "metadata": {},
     "output_type": "execute_result"
    }
   ],
   "source": [
    "len(tup5)"
   ]
  },
  {
   "cell_type": "markdown",
   "id": "19923f7f-4ea4-4997-8656-62b94ee61160",
   "metadata": {},
   "source": [
    "# TUPLE INDEXING"
   ]
  },
  {
   "cell_type": "code",
   "execution_count": 15,
   "id": "11ca8c9f-ca5d-4006-8672-9e4a81151a23",
   "metadata": {},
   "outputs": [
    {
     "data": {
      "text/plain": [
       "(20, 30, 60)"
      ]
     },
     "execution_count": 15,
     "metadata": {},
     "output_type": "execute_result"
    }
   ],
   "source": [
    "tup2"
   ]
  },
  {
   "cell_type": "code",
   "execution_count": 17,
   "id": "3eb73195-099f-468c-bf66-b61232435f0a",
   "metadata": {},
   "outputs": [
    {
     "data": {
      "text/plain": [
       "20"
      ]
     },
     "execution_count": 17,
     "metadata": {},
     "output_type": "execute_result"
    }
   ],
   "source": [
    "tup2[0]"
   ]
  },
  {
   "cell_type": "code",
   "execution_count": 21,
   "id": "0346b1cd-9a4e-4506-b0bd-d01ecaaa6dd7",
   "metadata": {},
   "outputs": [
    {
     "data": {
      "text/plain": [
       "11.11"
      ]
     },
     "execution_count": 21,
     "metadata": {},
     "output_type": "execute_result"
    }
   ],
   "source": [
    "tup5[3]"
   ]
  },
  {
   "cell_type": "code",
   "execution_count": 25,
   "id": "7865ee4f-fb0e-40de-bb7e-11c7a81c7e7a",
   "metadata": {},
   "outputs": [
    {
     "data": {
      "text/plain": [
       "11.11"
      ]
     },
     "execution_count": 25,
     "metadata": {},
     "output_type": "execute_result"
    }
   ],
   "source": [
    "tup5[-1]"
   ]
  },
  {
   "cell_type": "code",
   "execution_count": 33,
   "id": "baca4a73-fb83-4941-b42b-e23d93b6df57",
   "metadata": {},
   "outputs": [
    {
     "data": {
      "text/plain": [
       "'h'"
      ]
     },
     "execution_count": 33,
     "metadata": {},
     "output_type": "execute_result"
    }
   ],
   "source": [
    "tup4[0][0]"
   ]
  },
  {
   "cell_type": "code",
   "execution_count": 35,
   "id": "ba65d89e-e50c-431d-b22d-5b0830eb4192",
   "metadata": {},
   "outputs": [
    {
     "data": {
      "text/plain": [
       "'i'"
      ]
     },
     "execution_count": 35,
     "metadata": {},
     "output_type": "execute_result"
    }
   ],
   "source": [
    "tup4[0] [1]"
   ]
  },
  {
   "cell_type": "code",
   "execution_count": 37,
   "id": "ca36c918-110a-4b79-9dad-2e3d8109e89e",
   "metadata": {},
   "outputs": [
    {
     "data": {
      "text/plain": [
       "20"
      ]
     },
     "execution_count": 37,
     "metadata": {},
     "output_type": "execute_result"
    }
   ],
   "source": [
    "tup2[-3]"
   ]
  },
  {
   "cell_type": "code",
   "execution_count": 61,
   "id": "f5a8b92b-5fd2-4248-a30a-e989b903dc9f",
   "metadata": {},
   "outputs": [
    {
     "data": {
      "text/plain": [
       "60"
      ]
     },
     "execution_count": 61,
     "metadata": {},
     "output_type": "execute_result"
    }
   ],
   "source": [
    "tup2[-1]"
   ]
  },
  {
   "cell_type": "markdown",
   "id": "40d8a0fb-ff90-4bc9-9bcf-5ef540a454c9",
   "metadata": {},
   "source": [
    "# TUPLE SLICING"
   ]
  },
  {
   "cell_type": "code",
   "execution_count": 64,
   "id": "54597186-9029-4e81-9755-cf020b81720d",
   "metadata": {},
   "outputs": [
    {
     "data": {
      "text/plain": [
       "('hello', 'wellcome', 'to', 'nareshit')"
      ]
     },
     "execution_count": 64,
     "metadata": {},
     "output_type": "execute_result"
    }
   ],
   "source": [
    "mytupl = (\"hello\", \"wellcome\", \"to\", \"nareshit\")\n",
    "mytupl"
   ]
  },
  {
   "cell_type": "code",
   "execution_count": 68,
   "id": "7c760fad-1134-47f5-b399-1c284844244b",
   "metadata": {},
   "outputs": [
    {
     "data": {
      "text/plain": [
       "('hello', 'wellcome', 'to')"
      ]
     },
     "execution_count": 68,
     "metadata": {},
     "output_type": "execute_result"
    }
   ],
   "source": [
    "mytupl[:3]"
   ]
  },
  {
   "cell_type": "code",
   "execution_count": 70,
   "id": "644d8523-7b0c-4048-8f87-735d5941e425",
   "metadata": {},
   "outputs": [
    {
     "data": {
      "text/plain": [
       "('hello', 'wellcome')"
      ]
     },
     "execution_count": 70,
     "metadata": {},
     "output_type": "execute_result"
    }
   ],
   "source": [
    "mytupl[:2]"
   ]
  },
  {
   "cell_type": "code",
   "execution_count": 72,
   "id": "1db1c9fa-2ef0-4ea9-8f19-d5a6e2e5a603",
   "metadata": {},
   "outputs": [
    {
     "data": {
      "text/plain": [
       "('hello',)"
      ]
     },
     "execution_count": 72,
     "metadata": {},
     "output_type": "execute_result"
    }
   ],
   "source": [
    "mytupl[:1]"
   ]
  },
  {
   "cell_type": "code",
   "execution_count": 74,
   "id": "9a9dd906-bd33-4792-a191-a8c8e4fd2e08",
   "metadata": {},
   "outputs": [
    {
     "data": {
      "text/plain": [
       "()"
      ]
     },
     "execution_count": 74,
     "metadata": {},
     "output_type": "execute_result"
    }
   ],
   "source": [
    "mytupl[:0]"
   ]
  },
  {
   "cell_type": "code",
   "execution_count": 88,
   "id": "fb3131c3-9dbd-457e-9388-b50e39292dc5",
   "metadata": {},
   "outputs": [
    {
     "data": {
      "text/plain": [
       "('wellcome',)"
      ]
     },
     "execution_count": 88,
     "metadata": {},
     "output_type": "execute_result"
    }
   ],
   "source": [
    "mytupl[1:2]"
   ]
  },
  {
   "cell_type": "code",
   "execution_count": 90,
   "id": "a6e8bc1b-4e22-428f-a669-bef30681d0a4",
   "metadata": {},
   "outputs": [
    {
     "data": {
      "text/plain": [
       "('hello', 'wellcome', 'to', 'nareshit')"
      ]
     },
     "execution_count": 90,
     "metadata": {},
     "output_type": "execute_result"
    }
   ],
   "source": [
    "mytupl[::1]"
   ]
  },
  {
   "cell_type": "code",
   "execution_count": 92,
   "id": "75ac8008-e0f5-418a-922c-686f1526fa3c",
   "metadata": {},
   "outputs": [
    {
     "data": {
      "text/plain": [
       "('hello', 'to')"
      ]
     },
     "execution_count": 92,
     "metadata": {},
     "output_type": "execute_result"
    }
   ],
   "source": [
    "mytupl[::2]"
   ]
  },
  {
   "cell_type": "code",
   "execution_count": 102,
   "id": "bf45a745-c6b3-495a-a181-9465279c0bf0",
   "metadata": {},
   "outputs": [
    {
     "data": {
      "text/plain": [
       "'wellcome'"
      ]
     },
     "execution_count": 102,
     "metadata": {},
     "output_type": "execute_result"
    }
   ],
   "source": [
    "mytupl[-3]"
   ]
  },
  {
   "cell_type": "code",
   "execution_count": 104,
   "id": "ee3856b9-8c46-49bb-a29b-ef0250472ae1",
   "metadata": {},
   "outputs": [
    {
     "data": {
      "text/plain": [
       "'nareshit'"
      ]
     },
     "execution_count": 104,
     "metadata": {},
     "output_type": "execute_result"
    }
   ],
   "source": [
    "mytupl[-1]"
   ]
  },
  {
   "cell_type": "code",
   "execution_count": 106,
   "id": "eb9fb833-f60c-45e2-98e6-5a160b00d135",
   "metadata": {},
   "outputs": [
    {
     "data": {
      "text/plain": [
       "()"
      ]
     },
     "execution_count": 106,
     "metadata": {},
     "output_type": "execute_result"
    }
   ],
   "source": [
    "mytupl[-2:1]"
   ]
  },
  {
   "cell_type": "markdown",
   "id": "638c028d-8f77-496e-a803-621e2253f203",
   "metadata": {},
   "source": [
    "# REMOVE AND CHANGES"
   ]
  },
  {
   "cell_type": "code",
   "execution_count": 1,
   "id": "f36762da-b443-4362-b5c9-263283c1f6fb",
   "metadata": {},
   "outputs": [
    {
     "data": {
      "text/plain": [
       "('wellcome', 'everyone', 'gjhajksas')"
      ]
     },
     "execution_count": 1,
     "metadata": {},
     "output_type": "execute_result"
    }
   ],
   "source": [
    "tupl1 = (\"wellcome\", \"everyone\", \"gjhajksas\")\n",
    "tupl1"
   ]
  },
  {
   "cell_type": "code",
   "execution_count": 111,
   "id": "20652e8a-3664-4323-b38b-f2de5f824cae",
   "metadata": {},
   "outputs": [],
   "source": [
    "tupl1. # we can't make changes in tuple"
   ]
  },
  {
   "cell_type": "code",
   "execution_count": null,
   "id": "aa91ba1f-a041-4f31-8870-d8b55bbd3d46",
   "metadata": {},
   "outputs": [],
   "source": []
  },
  {
   "cell_type": "markdown",
   "id": "3b87e600-733a-4b69-b80b-e8d3bd3003d1",
   "metadata": {},
   "source": [
    "# loop"
   ]
  },
  {
   "cell_type": "code",
   "execution_count": 122,
   "id": "cd1c4e92-6760-4875-b463-82087c48e5f5",
   "metadata": {},
   "outputs": [
    {
     "data": {
      "text/plain": [
       "('wellcome', 'everyone', 'anything')"
      ]
     },
     "execution_count": 122,
     "metadata": {},
     "output_type": "execute_result"
    }
   ],
   "source": [
    "tupl1 = (\"wellcome\", \"everyone\", \"anything\")\n",
    "tupl1"
   ]
  },
  {
   "cell_type": "code",
   "execution_count": 132,
   "id": "e280c71d-a0bb-4fdd-a504-f5af977b389f",
   "metadata": {},
   "outputs": [
    {
     "name": "stdout",
     "output_type": "stream",
     "text": [
      "0\n",
      "1\n",
      "2\n"
     ]
    }
   ],
   "source": [
    "l=len(tupl1)\n",
    "for i in range(l):\n",
    "    print(i)"
   ]
  },
  {
   "cell_type": "code",
   "execution_count": 134,
   "id": "8a00e5b7-6adc-40b2-90d7-dc7f1c1349ef",
   "metadata": {},
   "outputs": [
    {
     "name": "stdout",
     "output_type": "stream",
     "text": [
      "(0, 'wellcome')\n",
      "(1, 'everyone')\n",
      "(2, 'anything')\n"
     ]
    }
   ],
   "source": [
    "for items in enumerate(tupl1):\n",
    "    print(items)"
   ]
  },
  {
   "cell_type": "markdown",
   "id": "841b11fd-2a73-461f-a216-a8dfbe63f061",
   "metadata": {},
   "source": [
    "# TUPLE MEMBERSHIP"
   ]
  },
  {
   "cell_type": "code",
   "execution_count": 145,
   "id": "eaf7f9dd-8d77-40df-88fd-e6ff49965f4d",
   "metadata": {},
   "outputs": [
    {
     "data": {
      "text/plain": [
       "('wellcome', 'everyone', 'anything')"
      ]
     },
     "execution_count": 145,
     "metadata": {},
     "output_type": "execute_result"
    }
   ],
   "source": [
    "tupl1"
   ]
  },
  {
   "cell_type": "code",
   "execution_count": 151,
   "id": "5a52da28-9414-4971-9d3a-598f160e17d3",
   "metadata": {},
   "outputs": [
    {
     "name": "stdout",
     "output_type": "stream",
     "text": [
      " true there is wellcome\n"
     ]
    }
   ],
   "source": [
    "if 'wellcome' in tupl1:\n",
    "    print(\" true there is wellcome\")\n",
    "else:\n",
    "    print(\" NO\")"
   ]
  },
  {
   "cell_type": "code",
   "execution_count": 153,
   "id": "656edfd0-e244-415c-b6bd-fa5d18a602c6",
   "metadata": {},
   "outputs": [
    {
     "name": "stdout",
     "output_type": "stream",
     "text": [
      "not at all\n"
     ]
    }
   ],
   "source": [
    "if 'hii' in tupl1:\n",
    "    print(\"yes it is!\")\n",
    "else:\n",
    "    print(\"not at all\")"
   ]
  },
  {
   "cell_type": "markdown",
   "id": "3fbe703a-2005-449b-8c12-bd9478f26699",
   "metadata": {},
   "source": [
    "# INDEX POSITION"
   ]
  },
  {
   "cell_type": "code",
   "execution_count": 3,
   "id": "af154d79-d0a2-434b-a488-6c67b9fe5db0",
   "metadata": {},
   "outputs": [
    {
     "data": {
      "text/plain": [
       "('hii', 'hello', 'everyone', 'hii')"
      ]
     },
     "execution_count": 3,
     "metadata": {},
     "output_type": "execute_result"
    }
   ],
   "source": [
    "tupl2 = ( \"hii\", \"hello\", \"everyone\", \"hii\")\n",
    "tupl2"
   ]
  },
  {
   "cell_type": "code",
   "execution_count": 13,
   "id": "0e045708-ed52-467b-a863-14fe237eaed0",
   "metadata": {},
   "outputs": [
    {
     "data": {
      "text/plain": [
       "2"
      ]
     },
     "execution_count": 13,
     "metadata": {},
     "output_type": "execute_result"
    }
   ],
   "source": [
    "tupl2.index('everyone')"
   ]
  },
  {
   "cell_type": "code",
   "execution_count": 9,
   "id": "b61cfaf0-a9ba-41dc-81f6-a6c15a51609c",
   "metadata": {},
   "outputs": [
    {
     "data": {
      "text/plain": [
       "1"
      ]
     },
     "execution_count": 9,
     "metadata": {},
     "output_type": "execute_result"
    }
   ],
   "source": [
    "tupl2.index(\"hello\")"
   ]
  },
  {
   "cell_type": "code",
   "execution_count": 17,
   "id": "d4884c5a-2d7f-4b16-8661-df27b27de5a7",
   "metadata": {},
   "outputs": [
    {
     "data": {
      "text/plain": [
       "0"
      ]
     },
     "execution_count": 17,
     "metadata": {},
     "output_type": "execute_result"
    }
   ],
   "source": [
    "tupl2.index(\"hii\")"
   ]
  },
  {
   "cell_type": "code",
   "execution_count": 21,
   "id": "468e6463-e7ad-4e5e-8ef8-5753a2651cfa",
   "metadata": {},
   "outputs": [
    {
     "data": {
      "text/plain": [
       "1"
      ]
     },
     "execution_count": 21,
     "metadata": {},
     "output_type": "execute_result"
    }
   ],
   "source": [
    "tupl2.count(\"everyone\")"
   ]
  },
  {
   "cell_type": "code",
   "execution_count": 23,
   "id": "16a26b4d-a83f-4e61-9ebb-df8b79a28c2e",
   "metadata": {},
   "outputs": [
    {
     "data": {
      "text/plain": [
       "2"
      ]
     },
     "execution_count": 23,
     "metadata": {},
     "output_type": "execute_result"
    }
   ],
   "source": [
    "tupl2.count(\"hii\")"
   ]
  },
  {
   "cell_type": "code",
   "execution_count": 25,
   "id": "135f5c3d-9cc6-48d0-8a81-f1743e33df7d",
   "metadata": {},
   "outputs": [
    {
     "data": {
      "text/plain": [
       "1"
      ]
     },
     "execution_count": 25,
     "metadata": {},
     "output_type": "execute_result"
    }
   ],
   "source": [
    "tupl2.count(\"hello\")"
   ]
  },
  {
   "cell_type": "markdown",
   "id": "295cf006-ec23-484a-9130-b20c216be472",
   "metadata": {},
   "source": [
    "# SORTED"
   ]
  },
  {
   "cell_type": "code",
   "execution_count": 36,
   "id": "27f0489c-d0b3-4bfe-a4a4-310845045e40",
   "metadata": {},
   "outputs": [
    {
     "data": {
      "text/plain": [
       "(7, 6, 3, 4, 2)"
      ]
     },
     "execution_count": 36,
     "metadata": {},
     "output_type": "execute_result"
    }
   ],
   "source": [
    "tupl3 = ( 7, 6, 3, 4, 2)\n",
    "tupl3"
   ]
  },
  {
   "cell_type": "code",
   "execution_count": 38,
   "id": "4c9ab04f-75d9-43f3-84f1-059100babbef",
   "metadata": {},
   "outputs": [
    {
     "data": {
      "text/plain": [
       "[2, 3, 4, 6, 7]"
      ]
     },
     "execution_count": 38,
     "metadata": {},
     "output_type": "execute_result"
    }
   ],
   "source": [
    "sorted(tupl3)"
   ]
  },
  {
   "cell_type": "code",
   "execution_count": 40,
   "id": "532b4c52-f1ae-47f5-977f-a05628a9da3e",
   "metadata": {},
   "outputs": [],
   "source": [
    "del(tupl3)"
   ]
  },
  {
   "cell_type": "code",
   "execution_count": 44,
   "id": "82898996-b7e8-44bf-903c-a31e33c8a865",
   "metadata": {},
   "outputs": [
    {
     "data": {
      "text/plain": [
       "(1.11, 20.09, 20.01, 21)"
      ]
     },
     "execution_count": 44,
     "metadata": {},
     "output_type": "execute_result"
    }
   ],
   "source": [
    "tupl3 = ( 1.11, 20.09,20.01, 21)\n",
    "tupl3"
   ]
  },
  {
   "cell_type": "code",
   "execution_count": 46,
   "id": "97cb4d2a-211f-4cb4-a5c3-229e8b825803",
   "metadata": {},
   "outputs": [
    {
     "data": {
      "text/plain": [
       "[1.11, 20.01, 20.09, 21]"
      ]
     },
     "execution_count": 46,
     "metadata": {},
     "output_type": "execute_result"
    }
   ],
   "source": [
    "sorted(tupl3)"
   ]
  },
  {
   "cell_type": "markdown",
   "id": "5a665ac7-03d3-4241-bc02-5b0b39be0d41",
   "metadata": {},
   "source": [
    "# SET"
   ]
  },
  {
   "cell_type": "code",
   "execution_count": 50,
   "id": "e8078112-bc88-47b0-9c5b-1c6df5d091dc",
   "metadata": {},
   "outputs": [
    {
     "data": {
      "text/plain": [
       "{}"
      ]
     },
     "execution_count": 50,
     "metadata": {},
     "output_type": "execute_result"
    }
   ],
   "source": [
    "set = {}\n",
    "set"
   ]
  },
  {
   "cell_type": "code",
   "execution_count": 58,
   "id": "b56535fd-e3b5-4c02-bf33-4cb1a8ddfd8c",
   "metadata": {},
   "outputs": [],
   "source": [
    "s1 = { 10, 20, 30, 40, 50}"
   ]
  },
  {
   "cell_type": "code",
   "execution_count": 60,
   "id": "9d69ff54-6b17-423d-9eb3-a86dd8a26ccc",
   "metadata": {},
   "outputs": [
    {
     "data": {
      "text/plain": [
       "{10, 20, 30, 40, 50}"
      ]
     },
     "execution_count": 60,
     "metadata": {},
     "output_type": "execute_result"
    }
   ],
   "source": [
    "s1"
   ]
  },
  {
   "cell_type": "code",
   "execution_count": 64,
   "id": "84bc98bf-6507-4401-b71a-7913998e572d",
   "metadata": {},
   "outputs": [
    {
     "data": {
      "text/plain": [
       "{40, 50, 60, 70, 80}"
      ]
     },
     "execution_count": 64,
     "metadata": {},
     "output_type": "execute_result"
    }
   ],
   "source": [
    "s2 = {50, 40, 60, 70, 80}\n",
    "s2"
   ]
  },
  {
   "cell_type": "code",
   "execution_count": 68,
   "id": "e75e498e-36be-4c6e-ad68-39a415cde4c7",
   "metadata": {},
   "outputs": [
    {
     "data": {
      "text/plain": [
       "{25, 35, 45, 90}"
      ]
     },
     "execution_count": 68,
     "metadata": {},
     "output_type": "execute_result"
    }
   ],
   "source": [
    "s3 = {90, 25, 35, 45}\n",
    "s3"
   ]
  },
  {
   "cell_type": "markdown",
   "id": "f5f93845-5416-4904-955b-b8200d45e334",
   "metadata": {},
   "source": [
    "# ADD"
   ]
  },
  {
   "cell_type": "code",
   "execution_count": 70,
   "id": "129e8dde-b42e-47e7-847c-a0d1a6575e8d",
   "metadata": {},
   "outputs": [
    {
     "data": {
      "text/plain": [
       "{25, 35, 45, 55, 90}"
      ]
     },
     "execution_count": 70,
     "metadata": {},
     "output_type": "execute_result"
    }
   ],
   "source": [
    "s3.add(55)\n",
    "s3"
   ]
  },
  {
   "cell_type": "code",
   "execution_count": 73,
   "id": "a9ff3656-0339-494a-b92f-d8df9f0ebde1",
   "metadata": {},
   "outputs": [
    {
     "data": {
      "text/plain": [
       "{40, 50, 60, 70, 80, 'sangam'}"
      ]
     },
     "execution_count": 73,
     "metadata": {},
     "output_type": "execute_result"
    }
   ],
   "source": [
    "s2.add(\"sangam\")\n",
    "s2"
   ]
  },
  {
   "cell_type": "code",
   "execution_count": 75,
   "id": "3e029b18-b367-4c66-93ed-da612cf7d961",
   "metadata": {},
   "outputs": [
    {
     "data": {
      "text/plain": [
       "{(20+3j), 10, 20, 30, 40, 50}"
      ]
     },
     "execution_count": 75,
     "metadata": {},
     "output_type": "execute_result"
    }
   ],
   "source": [
    "s1.add(20+3j)\n",
    "s1"
   ]
  },
  {
   "cell_type": "markdown",
   "id": "b88b652a-3937-4ffd-ba83-49282b58b874",
   "metadata": {},
   "source": [
    "# CLEAR"
   ]
  },
  {
   "cell_type": "code",
   "execution_count": 77,
   "id": "855f24d6-2d71-42d7-bb9c-aea209c22ebc",
   "metadata": {},
   "outputs": [],
   "source": [
    "s1.clear()"
   ]
  },
  {
   "cell_type": "code",
   "execution_count": 79,
   "id": "a845ebbd-95cf-4d84-9d6f-fa30f30bc949",
   "metadata": {},
   "outputs": [
    {
     "data": {
      "text/plain": [
       "set()"
      ]
     },
     "execution_count": 79,
     "metadata": {},
     "output_type": "execute_result"
    }
   ],
   "source": [
    "s1"
   ]
  },
  {
   "cell_type": "code",
   "execution_count": 84,
   "id": "d93d5c80-3af9-439d-8cb3-3c69e4c8d2ad",
   "metadata": {},
   "outputs": [
    {
     "data": {
      "text/plain": [
       "set()"
      ]
     },
     "execution_count": 84,
     "metadata": {},
     "output_type": "execute_result"
    }
   ],
   "source": [
    "s2.clear()\n",
    "s2"
   ]
  },
  {
   "cell_type": "code",
   "execution_count": 86,
   "id": "2fb138c8-503b-423d-a1b3-969921b98277",
   "metadata": {},
   "outputs": [],
   "source": [
    "s3.clear()"
   ]
  },
  {
   "cell_type": "code",
   "execution_count": 88,
   "id": "54f45b34-2ae7-4de1-a55c-d83a29df96e7",
   "metadata": {},
   "outputs": [
    {
     "data": {
      "text/plain": [
       "set()"
      ]
     },
     "execution_count": 88,
     "metadata": {},
     "output_type": "execute_result"
    }
   ],
   "source": [
    "s3"
   ]
  },
  {
   "cell_type": "markdown",
   "id": "d5a1920c-5889-45af-be55-853c16b5e304",
   "metadata": {},
   "source": [
    "# COPY"
   ]
  },
  {
   "cell_type": "code",
   "execution_count": 93,
   "id": "f6f30eaa-5d74-4c20-a2d9-c2e8b6074cea",
   "metadata": {},
   "outputs": [
    {
     "data": {
      "text/plain": [
       "{10, 20, 30, 40, 50}"
      ]
     },
     "execution_count": 93,
     "metadata": {},
     "output_type": "execute_result"
    }
   ],
   "source": [
    "s1 = { 10, 20, 30, 40, 50}\n",
    "s1"
   ]
  },
  {
   "cell_type": "code",
   "execution_count": 95,
   "id": "4194adee-38b6-46ad-b7cd-84ca686ac7b1",
   "metadata": {},
   "outputs": [
    {
     "data": {
      "text/plain": [
       "{40, 50, 60, 70, 80}"
      ]
     },
     "execution_count": 95,
     "metadata": {},
     "output_type": "execute_result"
    }
   ],
   "source": [
    "s2 = {50, 40, 60, 70, 80}\n",
    "s2"
   ]
  },
  {
   "cell_type": "code",
   "execution_count": 109,
   "id": "7e622bd6-aa23-4056-b08c-f7d512cc3144",
   "metadata": {},
   "outputs": [],
   "source": [
    "s4 = s2.copy()"
   ]
  },
  {
   "cell_type": "code",
   "execution_count": 111,
   "id": "5fc63dcc-edc6-427b-8b21-493792e7bee6",
   "metadata": {},
   "outputs": [
    {
     "data": {
      "text/plain": [
       "{40, 50, 60, 70, 80}"
      ]
     },
     "execution_count": 111,
     "metadata": {},
     "output_type": "execute_result"
    }
   ],
   "source": [
    "s4"
   ]
  },
  {
   "cell_type": "code",
   "execution_count": 113,
   "id": "41cc7211-336f-493d-81d6-7633c78ae26b",
   "metadata": {},
   "outputs": [
    {
     "data": {
      "text/plain": [
       "{10, 20, 30, 40, 50}"
      ]
     },
     "execution_count": 113,
     "metadata": {},
     "output_type": "execute_result"
    }
   ],
   "source": [
    "s5 = s1.copy()\n",
    "s5"
   ]
  },
  {
   "cell_type": "markdown",
   "id": "7a07e747-5338-4db5-9836-e917ceb3faab",
   "metadata": {},
   "source": [
    "# DIFFERENCE"
   ]
  },
  {
   "cell_type": "code",
   "execution_count": 120,
   "id": "65f3f14a-9078-42e8-a007-6bca7bcea96a",
   "metadata": {},
   "outputs": [
    {
     "data": {
      "text/plain": [
       "{10, 20, 30, 40, 50}"
      ]
     },
     "execution_count": 120,
     "metadata": {},
     "output_type": "execute_result"
    }
   ],
   "source": [
    "s1 = { 10, 20, 30, 40, 50}\n",
    "s1"
   ]
  },
  {
   "cell_type": "code",
   "execution_count": 148,
   "id": "730c07cd-4a5c-4965-9e2c-d14187920681",
   "metadata": {},
   "outputs": [
    {
     "data": {
      "text/plain": [
       "{40, 50, 60, 70, 80}"
      ]
     },
     "execution_count": 148,
     "metadata": {},
     "output_type": "execute_result"
    }
   ],
   "source": [
    "s1 = { 40, 50, 60, 70, 80}\n",
    "s2"
   ]
  },
  {
   "cell_type": "code",
   "execution_count": 124,
   "id": "a22e48c3-8d6b-452e-894c-abd96fcad254",
   "metadata": {},
   "outputs": [
    {
     "data": {
      "text/plain": [
       "{10, 20, 30}"
      ]
     },
     "execution_count": 124,
     "metadata": {},
     "output_type": "execute_result"
    }
   ],
   "source": [
    "s1.difference(s2)"
   ]
  },
  {
   "cell_type": "code",
   "execution_count": 132,
   "id": "ce5768f9-a599-459b-a8b0-fde7b1bf8b4f",
   "metadata": {},
   "outputs": [
    {
     "data": {
      "text/plain": [
       "{10, 20, 30, 40, 50}"
      ]
     },
     "execution_count": 132,
     "metadata": {},
     "output_type": "execute_result"
    }
   ],
   "source": [
    "s1"
   ]
  },
  {
   "cell_type": "code",
   "execution_count": 134,
   "id": "d27d3511-ad39-4c63-a7eb-f16087f1ba1f",
   "metadata": {},
   "outputs": [],
   "source": [
    "s1.difference_update(s2)\n"
   ]
  },
  {
   "cell_type": "code",
   "execution_count": 136,
   "id": "ec5b7def-55ad-4d2e-8b03-0e784a9ab179",
   "metadata": {},
   "outputs": [
    {
     "data": {
      "text/plain": [
       "{10, 20, 30}"
      ]
     },
     "execution_count": 136,
     "metadata": {},
     "output_type": "execute_result"
    }
   ],
   "source": [
    "s1"
   ]
  },
  {
   "cell_type": "code",
   "execution_count": 138,
   "id": "c590e003-9bf6-4016-bde9-973339e5efbf",
   "metadata": {},
   "outputs": [
    {
     "data": {
      "text/plain": [
       "{10, 20, 30}"
      ]
     },
     "execution_count": 138,
     "metadata": {},
     "output_type": "execute_result"
    }
   ],
   "source": [
    "s1"
   ]
  },
  {
   "cell_type": "code",
   "execution_count": 159,
   "id": "74245431-9396-4725-9019-fb033e0e884f",
   "metadata": {},
   "outputs": [
    {
     "data": {
      "text/plain": [
       "{10, 20, 30, 40, 50}"
      ]
     },
     "execution_count": 159,
     "metadata": {},
     "output_type": "execute_result"
    }
   ],
   "source": [
    "s1 = { 10, 20, 30, 40, 50}\n",
    "s1"
   ]
  },
  {
   "cell_type": "code",
   "execution_count": 157,
   "id": "3d25851e-fbb3-45cb-bd44-1f32be7697d7",
   "metadata": {},
   "outputs": [
    {
     "data": {
      "text/plain": [
       "{40, 50, 60, 70, 80}"
      ]
     },
     "execution_count": 157,
     "metadata": {},
     "output_type": "execute_result"
    }
   ],
   "source": [
    "s3 = { 40, 50, 60, 70, 80}\n",
    "s3"
   ]
  },
  {
   "cell_type": "code",
   "execution_count": 161,
   "id": "4e160173-ac69-4884-825f-ab206612c476",
   "metadata": {},
   "outputs": [
    {
     "data": {
      "text/plain": [
       "{40, 50}"
      ]
     },
     "execution_count": 161,
     "metadata": {},
     "output_type": "execute_result"
    }
   ],
   "source": [
    "s3.intersection(s1)"
   ]
  },
  {
   "cell_type": "code",
   "execution_count": 163,
   "id": "a42fb528-c93d-4b43-9c8c-7a8a65a60d2d",
   "metadata": {},
   "outputs": [
    {
     "data": {
      "text/plain": [
       "{40, 50, 60, 70, 80}"
      ]
     },
     "execution_count": 163,
     "metadata": {},
     "output_type": "execute_result"
    }
   ],
   "source": [
    "s3"
   ]
  },
  {
   "cell_type": "code",
   "execution_count": 165,
   "id": "3610aac8-97b9-4388-8755-92f2d5e58998",
   "metadata": {},
   "outputs": [],
   "source": [
    "s3.intersection_update(s1)"
   ]
  },
  {
   "cell_type": "code",
   "execution_count": 167,
   "id": "4fe4e212-298e-4091-b59e-9add5ad7668d",
   "metadata": {},
   "outputs": [
    {
     "data": {
      "text/plain": [
       "{40, 50}"
      ]
     },
     "execution_count": 167,
     "metadata": {},
     "output_type": "execute_result"
    }
   ],
   "source": [
    "s3"
   ]
  },
  {
   "cell_type": "markdown",
   "id": "a5e2052e-00d9-4a98-8442-754598c72ff9",
   "metadata": {},
   "source": [
    "# ISDISJOINT"
   ]
  },
  {
   "cell_type": "code",
   "execution_count": 169,
   "id": "41cc2319-5c50-47cd-9fa4-50d017146bb5",
   "metadata": {},
   "outputs": [
    {
     "data": {
      "text/plain": [
       "{40, 50, 60, 70, 80}"
      ]
     },
     "execution_count": 169,
     "metadata": {},
     "output_type": "execute_result"
    }
   ],
   "source": [
    "s3 = { 40, 50, 60, 70, 80}\n",
    "s3"
   ]
  },
  {
   "cell_type": "code",
   "execution_count": 173,
   "id": "21ee76ad-c607-422e-bc46-7a6d3336b3ff",
   "metadata": {},
   "outputs": [
    {
     "data": {
      "text/plain": [
       "{10, 20, 30, 40, 50}"
      ]
     },
     "execution_count": 173,
     "metadata": {},
     "output_type": "execute_result"
    }
   ],
   "source": [
    "s1"
   ]
  },
  {
   "cell_type": "code",
   "execution_count": 171,
   "id": "198ca8e2-e3e5-41a9-8481-2260ae28fefb",
   "metadata": {},
   "outputs": [
    {
     "data": {
      "text/plain": [
       "False"
      ]
     },
     "execution_count": 171,
     "metadata": {},
     "output_type": "execute_result"
    }
   ],
   "source": [
    "s3.isdisjoint(s1)"
   ]
  },
  {
   "cell_type": "code",
   "execution_count": 175,
   "id": "a5f9521f-d5a5-4474-9348-cf601d0c61dc",
   "metadata": {},
   "outputs": [],
   "source": [
    "s3 = {10,20,30,40}"
   ]
  },
  {
   "cell_type": "code",
   "execution_count": 177,
   "id": "0c04e61a-c00f-42f3-8ea2-678cda792155",
   "metadata": {},
   "outputs": [],
   "source": [
    "s2 = {50,60,70,80}"
   ]
  },
  {
   "cell_type": "code",
   "execution_count": 179,
   "id": "82fb9f23-e1ad-439f-b21b-851492bee6ef",
   "metadata": {},
   "outputs": [
    {
     "data": {
      "text/plain": [
       "True"
      ]
     },
     "execution_count": 179,
     "metadata": {},
     "output_type": "execute_result"
    }
   ],
   "source": [
    "s2.isdisjoint(s3)"
   ]
  },
  {
   "cell_type": "markdown",
   "id": "04628c75-aa5c-4536-955f-5ddfbc3f20e7",
   "metadata": {},
   "source": [
    "# ISSUBSET AND ISSUPERSET"
   ]
  },
  {
   "cell_type": "code",
   "execution_count": 208,
   "id": "5f5995b7-f670-4b54-af40-bbc89cbcefb9",
   "metadata": {},
   "outputs": [],
   "source": [
    "s1 = { 10, 20, 30, 40, 50}\n",
    "s2 = {30, 40,20}\n",
    "s3 = { 1, 2, 3, 4 }"
   ]
  },
  {
   "cell_type": "code",
   "execution_count": 210,
   "id": "5dc20aac-1c67-4c80-908e-ed473a5ff6a5",
   "metadata": {},
   "outputs": [
    {
     "data": {
      "text/plain": [
       "False"
      ]
     },
     "execution_count": 210,
     "metadata": {},
     "output_type": "execute_result"
    }
   ],
   "source": [
    "s1.issubset(s2)"
   ]
  },
  {
   "cell_type": "code",
   "execution_count": 214,
   "id": "3c6158cf-4f20-4612-9808-97d7f19c56bb",
   "metadata": {},
   "outputs": [
    {
     "data": {
      "text/plain": [
       "True"
      ]
     },
     "execution_count": 214,
     "metadata": {},
     "output_type": "execute_result"
    }
   ],
   "source": [
    "s1.issuperset(s2)"
   ]
  },
  {
   "cell_type": "code",
   "execution_count": 216,
   "id": "e3f6c042-03d5-41ef-bc27-e34bec0086c0",
   "metadata": {},
   "outputs": [
    {
     "data": {
      "text/plain": [
       "False"
      ]
     },
     "execution_count": 216,
     "metadata": {},
     "output_type": "execute_result"
    }
   ],
   "source": [
    "s2.issuperset(s1)"
   ]
  },
  {
   "cell_type": "code",
   "execution_count": 218,
   "id": "4e73b56c-371c-4667-93d0-d118ef9c8b7a",
   "metadata": {},
   "outputs": [
    {
     "data": {
      "text/plain": [
       "True"
      ]
     },
     "execution_count": 218,
     "metadata": {},
     "output_type": "execute_result"
    }
   ],
   "source": [
    "s2.issubset(s1)"
   ]
  },
  {
   "cell_type": "code",
   "execution_count": 220,
   "id": "f29d7dd2-9a65-4676-b2b3-432b0ca03953",
   "metadata": {},
   "outputs": [
    {
     "data": {
      "text/plain": [
       "{20, 30, 40}"
      ]
     },
     "execution_count": 220,
     "metadata": {},
     "output_type": "execute_result"
    }
   ],
   "source": [
    "s2"
   ]
  },
  {
   "cell_type": "markdown",
   "id": "917d4437-99b4-4d17-9b86-3c021e5bce8a",
   "metadata": {},
   "source": [
    "# POP"
   ]
  },
  {
   "cell_type": "code",
   "execution_count": 222,
   "id": "38e8f47b-50cd-4709-a6bf-a5e1a928d80d",
   "metadata": {},
   "outputs": [
    {
     "data": {
      "text/plain": [
       "40"
      ]
     },
     "execution_count": 222,
     "metadata": {},
     "output_type": "execute_result"
    }
   ],
   "source": [
    "s2.pop()"
   ]
  },
  {
   "cell_type": "code",
   "execution_count": 224,
   "id": "29d9a5dd-a21c-4869-95c7-d80e8a848674",
   "metadata": {},
   "outputs": [
    {
     "data": {
      "text/plain": [
       "{20, 30}"
      ]
     },
     "execution_count": 224,
     "metadata": {},
     "output_type": "execute_result"
    }
   ],
   "source": [
    "s2"
   ]
  },
  {
   "cell_type": "code",
   "execution_count": 226,
   "id": "91befeda-107b-47d6-b4db-d3504dc0fbc0",
   "metadata": {},
   "outputs": [
    {
     "data": {
      "text/plain": [
       "{10, 20, 30, 40, 50}"
      ]
     },
     "execution_count": 226,
     "metadata": {},
     "output_type": "execute_result"
    }
   ],
   "source": [
    "s1"
   ]
  },
  {
   "cell_type": "code",
   "execution_count": 228,
   "id": "87b0467e-ba2b-4248-89c5-5c70f258de66",
   "metadata": {},
   "outputs": [
    {
     "data": {
      "text/plain": [
       "50"
      ]
     },
     "execution_count": 228,
     "metadata": {},
     "output_type": "execute_result"
    }
   ],
   "source": [
    "s1.pop()"
   ]
  },
  {
   "cell_type": "markdown",
   "id": "043b12ab-fca1-4734-a2e9-0ddce5984dcc",
   "metadata": {},
   "source": [
    "# REMOVE"
   ]
  },
  {
   "cell_type": "code",
   "execution_count": 232,
   "id": "df23eee9-9057-46c6-bcae-99d5994628f2",
   "metadata": {},
   "outputs": [],
   "source": [
    "s1.remove(30)"
   ]
  },
  {
   "cell_type": "code",
   "execution_count": 234,
   "id": "c8376524-51fe-4e53-a132-4b055496780a",
   "metadata": {},
   "outputs": [
    {
     "data": {
      "text/plain": [
       "{10, 20, 40}"
      ]
     },
     "execution_count": 234,
     "metadata": {},
     "output_type": "execute_result"
    }
   ],
   "source": [
    "s1"
   ]
  },
  {
   "cell_type": "code",
   "execution_count": 236,
   "id": "ad35aa82-d842-49d3-a865-198dd656d985",
   "metadata": {},
   "outputs": [],
   "source": [
    "s2.remove(20)"
   ]
  },
  {
   "cell_type": "code",
   "execution_count": 238,
   "id": "8af81087-4d31-4e04-a400-0dfae9d6896e",
   "metadata": {},
   "outputs": [
    {
     "data": {
      "text/plain": [
       "{30}"
      ]
     },
     "execution_count": 238,
     "metadata": {},
     "output_type": "execute_result"
    }
   ],
   "source": [
    "s2"
   ]
  },
  {
   "cell_type": "markdown",
   "id": "16cf7f57-afed-4dc4-a4ee-c6397c8e6f4b",
   "metadata": {},
   "source": [
    "# SYMMETRIC_DIFFERENCE AND SYMMETRIC_DIFFERENCE_UPDATE"
   ]
  },
  {
   "cell_type": "code",
   "execution_count": 242,
   "id": "4cbce239-1f48-42f9-8014-8c0ac21e6de8",
   "metadata": {},
   "outputs": [],
   "source": [
    "s1 = { 70, 60, 40, 90}\n",
    "s2 = {40, 90, 110, 150}\n"
   ]
  },
  {
   "cell_type": "code",
   "execution_count": 246,
   "id": "e8362d21-c01c-4e26-b1df-cecbb7bd91a2",
   "metadata": {},
   "outputs": [
    {
     "data": {
      "text/plain": [
       "{60, 70, 110, 150}"
      ]
     },
     "execution_count": 246,
     "metadata": {},
     "output_type": "execute_result"
    }
   ],
   "source": [
    "s1.symmetric_difference(s2)"
   ]
  },
  {
   "cell_type": "code",
   "execution_count": 248,
   "id": "d5acd504-5747-4129-8de6-fa772c356528",
   "metadata": {},
   "outputs": [
    {
     "data": {
      "text/plain": [
       "{40, 60, 70, 90}"
      ]
     },
     "execution_count": 248,
     "metadata": {},
     "output_type": "execute_result"
    }
   ],
   "source": [
    "s1"
   ]
  },
  {
   "cell_type": "code",
   "execution_count": 250,
   "id": "ceae7c33-a6a1-43f8-aebb-aaad56e08961",
   "metadata": {},
   "outputs": [
    {
     "data": {
      "text/plain": [
       "{40, 90, 110, 150}"
      ]
     },
     "execution_count": 250,
     "metadata": {},
     "output_type": "execute_result"
    }
   ],
   "source": [
    "s2"
   ]
  },
  {
   "cell_type": "code",
   "execution_count": 252,
   "id": "a66b76e9-7ac7-49d7-a6e2-2c48f97ceb9e",
   "metadata": {},
   "outputs": [],
   "source": [
    "s1.symmetric_difference_update(s2)"
   ]
  },
  {
   "cell_type": "code",
   "execution_count": 254,
   "id": "8143445b-3fe0-43c3-9c44-4c1f94c8ee7b",
   "metadata": {},
   "outputs": [
    {
     "data": {
      "text/plain": [
       "{60, 70, 110, 150}"
      ]
     },
     "execution_count": 254,
     "metadata": {},
     "output_type": "execute_result"
    }
   ],
   "source": [
    "s1"
   ]
  },
  {
   "cell_type": "code",
   "execution_count": 256,
   "id": "a635727b-e6bf-4b60-afa2-e505bd6aa8f6",
   "metadata": {},
   "outputs": [
    {
     "data": {
      "text/plain": [
       "{40, 90, 110, 150}"
      ]
     },
     "execution_count": 256,
     "metadata": {},
     "output_type": "execute_result"
    }
   ],
   "source": [
    "s2"
   ]
  },
  {
   "cell_type": "code",
   "execution_count": 258,
   "id": "8a9162a7-9cd1-42d4-8d58-ab59db028f2f",
   "metadata": {},
   "outputs": [],
   "source": [
    "s2.symmetric_difference_update(s1)"
   ]
  },
  {
   "cell_type": "code",
   "execution_count": 260,
   "id": "65083e8b-7651-46a2-9d27-603dcf3ca465",
   "metadata": {},
   "outputs": [
    {
     "data": {
      "text/plain": [
       "{40, 60, 70, 90}"
      ]
     },
     "execution_count": 260,
     "metadata": {},
     "output_type": "execute_result"
    }
   ],
   "source": [
    "s2"
   ]
  },
  {
   "cell_type": "code",
   "execution_count": 262,
   "id": "91d6c124-e880-4fb7-b0df-a510ee48bfeb",
   "metadata": {},
   "outputs": [
    {
     "data": {
      "text/plain": [
       "{60, 70, 110, 150}"
      ]
     },
     "execution_count": 262,
     "metadata": {},
     "output_type": "execute_result"
    }
   ],
   "source": [
    "s1"
   ]
  },
  {
   "cell_type": "markdown",
   "id": "cc11b9ec-86fb-4de7-8203-cb90c4ec0a41",
   "metadata": {},
   "source": [
    "# UNION & UPDATE"
   ]
  },
  {
   "cell_type": "code",
   "execution_count": 264,
   "id": "78ff5a9a-4832-4173-b01e-9b765ff60c30",
   "metadata": {},
   "outputs": [
    {
     "data": {
      "text/plain": [
       "{40, 60, 70, 90, 110, 150}"
      ]
     },
     "execution_count": 264,
     "metadata": {},
     "output_type": "execute_result"
    }
   ],
   "source": [
    "s1.union(s2)"
   ]
  },
  {
   "cell_type": "code",
   "execution_count": 266,
   "id": "4c231732-e64a-469d-a9f0-08e8418703a1",
   "metadata": {},
   "outputs": [],
   "source": [
    "s3 = { 90, 56, 63, 82}\n",
    "s4 = {627, 87, 56, 64}"
   ]
  },
  {
   "cell_type": "code",
   "execution_count": 268,
   "id": "2e9e0ee2-7060-42a1-989d-c1dde05bbd20",
   "metadata": {},
   "outputs": [
    {
     "data": {
      "text/plain": [
       "{56, 63, 64, 82, 87, 90, 627}"
      ]
     },
     "execution_count": 268,
     "metadata": {},
     "output_type": "execute_result"
    }
   ],
   "source": [
    "s3.union(s4)"
   ]
  },
  {
   "cell_type": "code",
   "execution_count": 274,
   "id": "095208c5-f847-42fb-a9f1-4f405d6892d8",
   "metadata": {},
   "outputs": [],
   "source": [
    "s3.update(s4)"
   ]
  },
  {
   "cell_type": "code",
   "execution_count": 276,
   "id": "546c2197-099b-4bc2-a3bb-7b181a2f9e7c",
   "metadata": {},
   "outputs": [
    {
     "data": {
      "text/plain": [
       "{56, 63, 64, 82, 87, 90, 627}"
      ]
     },
     "execution_count": 276,
     "metadata": {},
     "output_type": "execute_result"
    }
   ],
   "source": [
    "s3"
   ]
  },
  {
   "cell_type": "code",
   "execution_count": 278,
   "id": "c2486244-432a-4269-9c19-8970d2558cd4",
   "metadata": {},
   "outputs": [
    {
     "data": {
      "text/plain": [
       "{5462576878}"
      ]
     },
     "execution_count": 278,
     "metadata": {},
     "output_type": "execute_result"
    }
   ],
   "source": [
    "s6 = {5462576878}\n",
    "s6"
   ]
  },
  {
   "cell_type": "code",
   "execution_count": 280,
   "id": "6280e896-ada9-4181-bfe1-c0cc6640d51c",
   "metadata": {},
   "outputs": [],
   "source": [
    "s1.update(s6)"
   ]
  },
  {
   "cell_type": "code",
   "execution_count": 282,
   "id": "d351da71-cb9c-4c1d-9d65-7c2790474b2c",
   "metadata": {},
   "outputs": [
    {
     "data": {
      "text/plain": [
       "{60, 70, 110, 150, 5462576878}"
      ]
     },
     "execution_count": 282,
     "metadata": {},
     "output_type": "execute_result"
    }
   ],
   "source": [
    "s1"
   ]
  },
  {
   "cell_type": "markdown",
   "id": "ee3f1bd8-0800-46a2-ae43-34c9a3d30d36",
   "metadata": {},
   "source": [
    "# OTHER BUILTIN FUNCT. "
   ]
  },
  {
   "cell_type": "code",
   "execution_count": 4,
   "id": "4ac6149f-9a89-47e4-b140-6ef868fc0829",
   "metadata": {},
   "outputs": [
    {
     "data": {
      "text/plain": [
       "{10, 20, 30, 40, 50, 60}"
      ]
     },
     "execution_count": 4,
     "metadata": {},
     "output_type": "execute_result"
    }
   ],
   "source": [
    "b = {10, 20, 30,  40, 50, 60}\n",
    "b"
   ]
  },
  {
   "cell_type": "code",
   "execution_count": 6,
   "id": "f1e36078-9fa7-4618-aa00-acdbb196f3fe",
   "metadata": {},
   "outputs": [
    {
     "data": {
      "text/plain": [
       "210"
      ]
     },
     "execution_count": 6,
     "metadata": {},
     "output_type": "execute_result"
    }
   ],
   "source": [
    "sum(b)"
   ]
  },
  {
   "cell_type": "code",
   "execution_count": 8,
   "id": "95e2c886-1690-43c4-bb5f-4c759377f2c0",
   "metadata": {},
   "outputs": [
    {
     "data": {
      "text/plain": [
       "60"
      ]
     },
     "execution_count": 8,
     "metadata": {},
     "output_type": "execute_result"
    }
   ],
   "source": [
    "max(b)"
   ]
  },
  {
   "cell_type": "code",
   "execution_count": 10,
   "id": "666c92cb-4321-495e-8858-dee082a8d525",
   "metadata": {},
   "outputs": [
    {
     "data": {
      "text/plain": [
       "10"
      ]
     },
     "execution_count": 10,
     "metadata": {},
     "output_type": "execute_result"
    }
   ],
   "source": [
    "min(b)"
   ]
  },
  {
   "cell_type": "code",
   "execution_count": 12,
   "id": "9876052b-b7f6-4000-bd08-ac7a9cd10b91",
   "metadata": {},
   "outputs": [
    {
     "data": {
      "text/plain": [
       "6"
      ]
     },
     "execution_count": 12,
     "metadata": {},
     "output_type": "execute_result"
    }
   ],
   "source": [
    "len(b)"
   ]
  },
  {
   "cell_type": "code",
   "execution_count": 14,
   "id": "b5e6a42b-23f5-45fd-995d-a5cb5f3d2fba",
   "metadata": {},
   "outputs": [
    {
     "data": {
      "text/plain": [
       "[(0, 50), (1, 20), (2, 40), (3, 10), (4, 60), (5, 30)]"
      ]
     },
     "execution_count": 14,
     "metadata": {},
     "output_type": "execute_result"
    }
   ],
   "source": [
    "list(enumerate(b))"
   ]
  },
  {
   "cell_type": "code",
   "execution_count": 16,
   "id": "7e5b9452-c531-4f3c-ae0d-500ae8dbb83f",
   "metadata": {},
   "outputs": [
    {
     "data": {
      "text/plain": [
       "[60, 50, 40, 30, 20, 10]"
      ]
     },
     "execution_count": 16,
     "metadata": {},
     "output_type": "execute_result"
    }
   ],
   "source": [
    "b = sorted(b,reverse = True)\n",
    "b"
   ]
  },
  {
   "cell_type": "code",
   "execution_count": 18,
   "id": "9a8c62f9-1a7e-486b-92d0-5fc34afd11f5",
   "metadata": {},
   "outputs": [
    {
     "data": {
      "text/plain": [
       "[10, 20, 30, 40, 50, 60]"
      ]
     },
     "execution_count": 18,
     "metadata": {},
     "output_type": "execute_result"
    }
   ],
   "source": [
    "sorted(b)"
   ]
  },
  {
   "cell_type": "markdown",
   "id": "17831f57-bf45-4daf-abfd-02ea2cac30dd",
   "metadata": {},
   "source": [
    "# DICTIONARY"
   ]
  },
  {
   "cell_type": "code",
   "execution_count": 21,
   "id": "d034b3a3-a8a7-43ae-8b84-a4854e9bb683",
   "metadata": {},
   "outputs": [
    {
     "data": {
      "text/plain": [
       "{}"
      ]
     },
     "execution_count": 21,
     "metadata": {},
     "output_type": "execute_result"
    }
   ],
   "source": [
    "d = dict()\n",
    "d"
   ]
  },
  {
   "cell_type": "code",
   "execution_count": 23,
   "id": "364b37ea-6ad9-4be7-97d7-22fa0773fe30",
   "metadata": {},
   "outputs": [
    {
     "data": {
      "text/plain": [
       "dict"
      ]
     },
     "execution_count": 23,
     "metadata": {},
     "output_type": "execute_result"
    }
   ],
   "source": [
    "type(d)"
   ]
  },
  {
   "cell_type": "code",
   "execution_count": null,
   "id": "bff3e5f3-dfe3-4358-85af-1c6dc0d3a871",
   "metadata": {},
   "outputs": [],
   "source": [
    "# keys and value"
   ]
  },
  {
   "cell_type": "code",
   "execution_count": 25,
   "id": "6004577d-c01c-43a5-9b0f-4b5fcf7ba212",
   "metadata": {},
   "outputs": [
    {
     "data": {
      "text/plain": [
       "{1: 'apple', 2: 'banana', 3: 'mango', 4: 'grapes'}"
      ]
     },
     "execution_count": 25,
     "metadata": {},
     "output_type": "execute_result"
    }
   ],
   "source": [
    "d = {1: \"apple\", 2:\"banana\", 3:\"mango\", 4:\"grapes\"}\n",
    "d"
   ]
  },
  {
   "cell_type": "code",
   "execution_count": 31,
   "id": "a4bf90c8-b28f-4792-b84a-b4ad194878db",
   "metadata": {},
   "outputs": [
    {
     "data": {
      "text/plain": [
       "dict_keys([1, 2, 3, 4])"
      ]
     },
     "execution_count": 31,
     "metadata": {},
     "output_type": "execute_result"
    }
   ],
   "source": [
    "d.keys()"
   ]
  },
  {
   "cell_type": "code",
   "execution_count": 33,
   "id": "e5cc49c5-fee8-4530-9f86-13a11f220d78",
   "metadata": {},
   "outputs": [
    {
     "data": {
      "text/plain": [
       "dict_values(['apple', 'banana', 'mango', 'grapes'])"
      ]
     },
     "execution_count": 33,
     "metadata": {},
     "output_type": "execute_result"
    }
   ],
   "source": [
    "d.values()"
   ]
  },
  {
   "cell_type": "code",
   "execution_count": 35,
   "id": "a21e665d-faff-4ce1-8028-2c1f799dc429",
   "metadata": {},
   "outputs": [
    {
     "data": {
      "text/plain": [
       "dict_items([(1, 'apple'), (2, 'banana'), (3, 'mango'), (4, 'grapes')])"
      ]
     },
     "execution_count": 35,
     "metadata": {},
     "output_type": "execute_result"
    }
   ],
   "source": [
    "d.items()"
   ]
  },
  {
   "cell_type": "code",
   "execution_count": 71,
   "id": "e0140eb3-2f74-4edb-836d-768b3437b7d6",
   "metadata": {},
   "outputs": [],
   "source": [
    "d = {1: \"apple\", 2:\"banana\", '3':\"mango\", 4:\"grapes\"}"
   ]
  },
  {
   "cell_type": "code",
   "execution_count": 73,
   "id": "e3297da7-f773-4d9a-8c09-c098ed7012ff",
   "metadata": {},
   "outputs": [
    {
     "data": {
      "text/plain": [
       "{1: 'apple', 2: 'banana', '3': 'mango', 4: 'grapes'}"
      ]
     },
     "execution_count": 73,
     "metadata": {},
     "output_type": "execute_result"
    }
   ],
   "source": [
    "d"
   ]
  },
  {
   "cell_type": "code",
   "execution_count": 83,
   "id": "abe01d66-283c-4f1a-9894-6c284ec5a446",
   "metadata": {},
   "outputs": [
    {
     "data": {
      "text/plain": [
       "{'b': None, 'a': None, 'c': None, 'd': None}"
      ]
     },
     "execution_count": 83,
     "metadata": {},
     "output_type": "execute_result"
    }
   ],
   "source": [
    "keys = { 'a', 'b', 'c', 'd'}\n",
    "d = dict.fromkeys(keys)\n",
    "d"
   ]
  },
  {
   "cell_type": "code",
   "execution_count": 95,
   "id": "97c26536-ef1b-40ae-92d4-479754c21e42",
   "metadata": {},
   "outputs": [
    {
     "data": {
      "text/plain": [
       "{'b': (10, 20, 30), 'a': (10, 20, 30), 'c': (10, 20, 30), 'd': (10, 20, 30)}"
      ]
     },
     "execution_count": 95,
     "metadata": {},
     "output_type": "execute_result"
    }
   ],
   "source": [
    "keys = { 'a', 'b', 'c', 'd'}\n",
    "value = (10,20,30)\n",
    "d = dict.fromkeys( keys, value)\n",
    "d"
   ]
  },
  {
   "cell_type": "code",
   "execution_count": 109,
   "id": "9561d78c-cfd7-4f94-a03c-62294978acde",
   "metadata": {},
   "outputs": [
    {
     "ename": "AttributeError",
     "evalue": "'tuple' object has no attribute 'append'",
     "output_type": "error",
     "traceback": [
      "\u001b[1;31m---------------------------------------------------------------------------\u001b[0m",
      "\u001b[1;31mAttributeError\u001b[0m                            Traceback (most recent call last)",
      "Cell \u001b[1;32mIn[109], line 1\u001b[0m\n\u001b[1;32m----> 1\u001b[0m value\u001b[38;5;241m.\u001b[39mappend(\u001b[38;5;241m40\u001b[39m)\n\u001b[0;32m      2\u001b[0m d\n",
      "\u001b[1;31mAttributeError\u001b[0m: 'tuple' object has no attribute 'append'"
     ]
    }
   ],
   "source": [
    "value.append(40) # doubt\n"
   ]
  },
  {
   "cell_type": "code",
   "execution_count": null,
   "id": "430d24f9-d256-44c3-bb88-c576224bb476",
   "metadata": {},
   "outputs": [],
   "source": []
  },
  {
   "cell_type": "code",
   "execution_count": 111,
   "id": "ae9daffa-cc51-4b40-baad-6b644bab72f3",
   "metadata": {},
   "outputs": [],
   "source": [
    "d = {1: \"apple\", 2:\"banana\", '3':\"mango\", 4:\"grapes\"}"
   ]
  },
  {
   "cell_type": "code",
   "execution_count": 113,
   "id": "bd16283f-65a7-4ca8-8ef2-5ff7ed23b111",
   "metadata": {},
   "outputs": [
    {
     "data": {
      "text/plain": [
       "{1: 'apple', 2: 'banana', '3': 'mango', 4: 'grapes'}"
      ]
     },
     "execution_count": 113,
     "metadata": {},
     "output_type": "execute_result"
    }
   ],
   "source": [
    "d"
   ]
  },
  {
   "cell_type": "code",
   "execution_count": 117,
   "id": "335f57d7-8477-4fe5-9ab7-ea39c7bfe224",
   "metadata": {},
   "outputs": [
    {
     "data": {
      "text/plain": [
       "'banana'"
      ]
     },
     "execution_count": 117,
     "metadata": {},
     "output_type": "execute_result"
    }
   ],
   "source": [
    "d[2]"
   ]
  },
  {
   "cell_type": "code",
   "execution_count": 119,
   "id": "62e00eb9-6528-42e1-9f55-999c4e7a6094",
   "metadata": {},
   "outputs": [
    {
     "data": {
      "text/plain": [
       "'apple'"
      ]
     },
     "execution_count": 119,
     "metadata": {},
     "output_type": "execute_result"
    }
   ],
   "source": [
    "d[1]"
   ]
  },
  {
   "cell_type": "code",
   "execution_count": 121,
   "id": "e8d9c282-b503-4f18-94ab-b1bce77dddb7",
   "metadata": {},
   "outputs": [
    {
     "data": {
      "text/plain": [
       "'grapes'"
      ]
     },
     "execution_count": 121,
     "metadata": {},
     "output_type": "execute_result"
    }
   ],
   "source": [
    "d[4]"
   ]
  },
  {
   "cell_type": "code",
   "execution_count": 123,
   "id": "1af209d8-b39c-4281-b811-93b2aeea66be",
   "metadata": {},
   "outputs": [
    {
     "ename": "KeyError",
     "evalue": "'banana'",
     "output_type": "error",
     "traceback": [
      "\u001b[1;31m---------------------------------------------------------------------------\u001b[0m",
      "\u001b[1;31mKeyError\u001b[0m                                  Traceback (most recent call last)",
      "Cell \u001b[1;32mIn[123], line 1\u001b[0m\n\u001b[1;32m----> 1\u001b[0m d[\u001b[38;5;124m\"\u001b[39m\u001b[38;5;124mbanana\u001b[39m\u001b[38;5;124m\"\u001b[39m]\n",
      "\u001b[1;31mKeyError\u001b[0m: 'banana'"
     ]
    }
   ],
   "source": []
  },
  {
   "cell_type": "code",
   "execution_count": null,
   "id": "31b26c5b-3f31-4e19-b396-fe5475d11e58",
   "metadata": {},
   "outputs": [],
   "source": []
  }
 ],
 "metadata": {
  "kernelspec": {
   "display_name": "Python 3 (ipykernel)",
   "language": "python",
   "name": "python3"
  },
  "language_info": {
   "codemirror_mode": {
    "name": "ipython",
    "version": 3
   },
   "file_extension": ".py",
   "mimetype": "text/x-python",
   "name": "python",
   "nbconvert_exporter": "python",
   "pygments_lexer": "ipython3",
   "version": "3.12.4"
  }
 },
 "nbformat": 4,
 "nbformat_minor": 5
}
